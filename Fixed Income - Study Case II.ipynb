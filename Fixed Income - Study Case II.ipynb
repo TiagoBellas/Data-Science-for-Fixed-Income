{
 "cells": [
  {
   "cell_type": "markdown",
   "id": "eec814da",
   "metadata": {},
   "source": [
    "# | Data Science for Finance | Fixed Income\n",
    "#### Student: Thiago Bellas  | Student Id: 20231131 |"
   ]
  },
  {
   "cell_type": "markdown",
   "id": "d9beb716",
   "metadata": {},
   "source": [
    "## INDIVIDUAL PROJECT DESCRIPTION"
   ]
  },
  {
   "cell_type": "markdown",
   "id": "f1283064",
   "metadata": {},
   "source": [
    "### Load data transforming the data to use in the exercises below\n",
    "\n",
    "Consider the Bloomberg information on a 25-year fixed rate receiver interest rate swap (IRS) contract issued on 19-01-2007 with floating leg linked to EURIBOR 6-month rate."
   ]
  },
  {
   "cell_type": "code",
   "execution_count": 1,
   "id": "3236947d",
   "metadata": {},
   "outputs": [],
   "source": [
    "#!pip install quantlib\n",
    "#!pip install tabula-py\n",
    "#!pip install jpype1"
   ]
  },
  {
   "cell_type": "code",
   "execution_count": 2,
   "id": "74ff2bd4",
   "metadata": {},
   "outputs": [],
   "source": [
    "# Import initial libraries\n",
    "import QuantLib as ql\n",
    "import numpy as np\n",
    "import pandas as pd"
   ]
  },
  {
   "cell_type": "code",
   "execution_count": 3,
   "id": "bc0af5d1",
   "metadata": {},
   "outputs": [],
   "source": [
    "# Function to work with temporal series using days and years\n",
    "def count_days(d1: ql.Date, d2: ql.Date, basis = ql.Actual360()):\n",
    "    return basis.dayCount(d1, d2)\n",
    "\n",
    "def count_years(d1: ql.Date, d2: ql.Date, basis = ql.Actual360()):\n",
    "    return basis.yearFraction(d1, d2)\n",
    "\n",
    "def get_coupon_dates(issue_date:ql.Date, maturity_date: ql.Date, frequency: int):\n",
    "    schedule = ql.Schedule(\n",
    "        issue_date, \n",
    "        maturity_date, \n",
    "        ql.Period(frequency),\n",
    "        ql.TARGET(),\n",
    "        ql.Following,\n",
    "        ql.Following,\n",
    "        ql.DateGeneration.Backward, \n",
    "        False\n",
    "    )\n",
    "    return [dt for dt in schedule]"
   ]
  },
  {
   "cell_type": "markdown",
   "id": "65a127fa",
   "metadata": {},
   "source": [
    "#### Consider the Bloomberg reference EUR yield curve on the valuation date 14-04-2019 as detailed below. Based on the market information:"
   ]
  },
  {
   "cell_type": "code",
   "execution_count": 4,
   "id": "88062763",
   "metadata": {},
   "outputs": [],
   "source": [
    "import pandas as pd\n",
    "\n",
    "# Load the data from the Excel file\n",
    "yield_curve_df = pd.read_excel('Bloomberg reference EUR yield curve.xlsx')"
   ]
  },
  {
   "cell_type": "code",
   "execution_count": 5,
   "id": "1431444a",
   "metadata": {},
   "outputs": [
    {
     "data": {
      "text/plain": [
       "Index(['Maturity Date', 'Market Rate %'], dtype='object')"
      ]
     },
     "execution_count": 5,
     "metadata": {},
     "output_type": "execute_result"
    }
   ],
   "source": [
    "yield_curve_df.columns"
   ]
  },
  {
   "cell_type": "code",
   "execution_count": 6,
   "id": "9317d2af",
   "metadata": {},
   "outputs": [],
   "source": [
    "# rename columns to actually be useful later on...\n",
    "yield_curve_df.rename(columns = {\"Maturity Date\":\"maturity\", \"Market Rate %\": \"rate\"}, inplace=True)"
   ]
  },
  {
   "cell_type": "code",
   "execution_count": 7,
   "id": "e1235308",
   "metadata": {},
   "outputs": [
    {
     "data": {
      "text/html": [
       "<div>\n",
       "<style scoped>\n",
       "    .dataframe tbody tr th:only-of-type {\n",
       "        vertical-align: middle;\n",
       "    }\n",
       "\n",
       "    .dataframe tbody tr th {\n",
       "        vertical-align: top;\n",
       "    }\n",
       "\n",
       "    .dataframe thead th {\n",
       "        text-align: right;\n",
       "    }\n",
       "</style>\n",
       "<table border=\"1\" class=\"dataframe\">\n",
       "  <thead>\n",
       "    <tr style=\"text-align: right;\">\n",
       "      <th></th>\n",
       "      <th>maturity</th>\n",
       "      <th>rate</th>\n",
       "    </tr>\n",
       "  </thead>\n",
       "  <tbody>\n",
       "    <tr>\n",
       "      <th>0</th>\n",
       "      <td>2019-04-15</td>\n",
       "      <td>-0.364000</td>\n",
       "    </tr>\n",
       "    <tr>\n",
       "      <th>1</th>\n",
       "      <td>2019-04-23</td>\n",
       "      <td>-0.378000</td>\n",
       "    </tr>\n",
       "    <tr>\n",
       "      <th>2</th>\n",
       "      <td>2019-05-16</td>\n",
       "      <td>-0.367000</td>\n",
       "    </tr>\n",
       "    <tr>\n",
       "      <th>3</th>\n",
       "      <td>2019-07-16</td>\n",
       "      <td>-0.310000</td>\n",
       "    </tr>\n",
       "    <tr>\n",
       "      <th>4</th>\n",
       "      <td>2019-10-16</td>\n",
       "      <td>-0.232000</td>\n",
       "    </tr>\n",
       "    <tr>\n",
       "      <th>5</th>\n",
       "      <td>2020-04-16</td>\n",
       "      <td>-0.227000</td>\n",
       "    </tr>\n",
       "    <tr>\n",
       "      <th>6</th>\n",
       "      <td>2020-10-16</td>\n",
       "      <td>-0.191000</td>\n",
       "    </tr>\n",
       "    <tr>\n",
       "      <th>7</th>\n",
       "      <td>2021-04-16</td>\n",
       "      <td>-0.199250</td>\n",
       "    </tr>\n",
       "    <tr>\n",
       "      <th>8</th>\n",
       "      <td>2022-04-19</td>\n",
       "      <td>-0.130500</td>\n",
       "    </tr>\n",
       "    <tr>\n",
       "      <th>9</th>\n",
       "      <td>2023-04-17</td>\n",
       "      <td>-0.039750</td>\n",
       "    </tr>\n",
       "    <tr>\n",
       "      <th>10</th>\n",
       "      <td>2024-04-16</td>\n",
       "      <td>0.055250</td>\n",
       "    </tr>\n",
       "    <tr>\n",
       "      <th>11</th>\n",
       "      <td>2025-04-16</td>\n",
       "      <td>0.154250</td>\n",
       "    </tr>\n",
       "    <tr>\n",
       "      <th>12</th>\n",
       "      <td>2026-04-16</td>\n",
       "      <td>0.256500</td>\n",
       "    </tr>\n",
       "    <tr>\n",
       "      <th>13</th>\n",
       "      <td>2027-04-16</td>\n",
       "      <td>0.357250</td>\n",
       "    </tr>\n",
       "    <tr>\n",
       "      <th>14</th>\n",
       "      <td>2028-04-18</td>\n",
       "      <td>0.458250</td>\n",
       "    </tr>\n",
       "    <tr>\n",
       "      <th>15</th>\n",
       "      <td>2029-04-16</td>\n",
       "      <td>0.552400</td>\n",
       "    </tr>\n",
       "    <tr>\n",
       "      <th>16</th>\n",
       "      <td>2030-04-16</td>\n",
       "      <td>0.638500</td>\n",
       "    </tr>\n",
       "    <tr>\n",
       "      <th>17</th>\n",
       "      <td>2031-04-16</td>\n",
       "      <td>0.716500</td>\n",
       "    </tr>\n",
       "    <tr>\n",
       "      <th>18</th>\n",
       "      <td>2034-04-17</td>\n",
       "      <td>0.901000</td>\n",
       "    </tr>\n",
       "    <tr>\n",
       "      <th>19</th>\n",
       "      <td>2039-04-18</td>\n",
       "      <td>1.071000</td>\n",
       "    </tr>\n",
       "    <tr>\n",
       "      <th>20</th>\n",
       "      <td>2044-04-19</td>\n",
       "      <td>1.134000</td>\n",
       "    </tr>\n",
       "    <tr>\n",
       "      <th>21</th>\n",
       "      <td>2049-04-20</td>\n",
       "      <td>1.152000</td>\n",
       "    </tr>\n",
       "    <tr>\n",
       "      <th>22</th>\n",
       "      <td>2054-04-16</td>\n",
       "      <td>1.150000</td>\n",
       "    </tr>\n",
       "    <tr>\n",
       "      <th>23</th>\n",
       "      <td>2059-04-16</td>\n",
       "      <td>1.140249</td>\n",
       "    </tr>\n",
       "    <tr>\n",
       "      <th>24</th>\n",
       "      <td>2064-04-16</td>\n",
       "      <td>1.131000</td>\n",
       "    </tr>\n",
       "    <tr>\n",
       "      <th>25</th>\n",
       "      <td>2069-04-16</td>\n",
       "      <td>1.120999</td>\n",
       "    </tr>\n",
       "  </tbody>\n",
       "</table>\n",
       "</div>"
      ],
      "text/plain": [
       "     maturity      rate\n",
       "0  2019-04-15 -0.364000\n",
       "1  2019-04-23 -0.378000\n",
       "2  2019-05-16 -0.367000\n",
       "3  2019-07-16 -0.310000\n",
       "4  2019-10-16 -0.232000\n",
       "5  2020-04-16 -0.227000\n",
       "6  2020-10-16 -0.191000\n",
       "7  2021-04-16 -0.199250\n",
       "8  2022-04-19 -0.130500\n",
       "9  2023-04-17 -0.039750\n",
       "10 2024-04-16  0.055250\n",
       "11 2025-04-16  0.154250\n",
       "12 2026-04-16  0.256500\n",
       "13 2027-04-16  0.357250\n",
       "14 2028-04-18  0.458250\n",
       "15 2029-04-16  0.552400\n",
       "16 2030-04-16  0.638500\n",
       "17 2031-04-16  0.716500\n",
       "18 2034-04-17  0.901000\n",
       "19 2039-04-18  1.071000\n",
       "20 2044-04-19  1.134000\n",
       "21 2049-04-20  1.152000\n",
       "22 2054-04-16  1.150000\n",
       "23 2059-04-16  1.140249\n",
       "24 2064-04-16  1.131000\n",
       "25 2069-04-16  1.120999"
      ]
     },
     "execution_count": 7,
     "metadata": {},
     "output_type": "execute_result"
    }
   ],
   "source": [
    "yield_curve_df"
   ]
  },
  {
   "cell_type": "code",
   "execution_count": 8,
   "id": "3121b138",
   "metadata": {},
   "outputs": [],
   "source": [
    "#Store valuation date as variable\n",
    "valuation_date = ql.Date(14,4,2019)"
   ]
  },
  {
   "cell_type": "code",
   "execution_count": 9,
   "id": "9e3d17e3",
   "metadata": {},
   "outputs": [],
   "source": [
    "# apply some operations for changhing index and rate (divide by 100 to be used as-is)\n",
    "yield_curve_df['maturity'] = yield_curve_df['maturity'] \\\n",
    "    .apply(lambda d: pd.to_datetime(d, infer_datetime_format=True)) \\\n",
    "    .apply(lambda d: ql.Date(d.day, d.month, d.year))"
   ]
  },
  {
   "cell_type": "code",
   "execution_count": 10,
   "id": "87a76da4",
   "metadata": {},
   "outputs": [],
   "source": [
    "yield_curve_df['rate'] = yield_curve_df['rate'].apply(lambda r: r/100)"
   ]
  },
  {
   "cell_type": "code",
   "execution_count": 11,
   "id": "495ecc00",
   "metadata": {},
   "outputs": [],
   "source": [
    "yield_curve_df['theta'] = yield_curve_df['maturity'] \\\n",
    "    .apply(lambda maturity: count_years(valuation_date, maturity))"
   ]
  },
  {
   "cell_type": "code",
   "execution_count": 12,
   "id": "48f5fea9",
   "metadata": {},
   "outputs": [
    {
     "data": {
      "text/html": [
       "<div>\n",
       "<style scoped>\n",
       "    .dataframe tbody tr th:only-of-type {\n",
       "        vertical-align: middle;\n",
       "    }\n",
       "\n",
       "    .dataframe tbody tr th {\n",
       "        vertical-align: top;\n",
       "    }\n",
       "\n",
       "    .dataframe thead th {\n",
       "        text-align: right;\n",
       "    }\n",
       "</style>\n",
       "<table border=\"1\" class=\"dataframe\">\n",
       "  <thead>\n",
       "    <tr style=\"text-align: right;\">\n",
       "      <th></th>\n",
       "      <th>maturity</th>\n",
       "      <th>rate</th>\n",
       "      <th>theta</th>\n",
       "    </tr>\n",
       "  </thead>\n",
       "  <tbody>\n",
       "    <tr>\n",
       "      <th>0</th>\n",
       "      <td>April 15th, 2019</td>\n",
       "      <td>-0.003640</td>\n",
       "      <td>0.002778</td>\n",
       "    </tr>\n",
       "    <tr>\n",
       "      <th>1</th>\n",
       "      <td>April 23rd, 2019</td>\n",
       "      <td>-0.003780</td>\n",
       "      <td>0.025000</td>\n",
       "    </tr>\n",
       "    <tr>\n",
       "      <th>2</th>\n",
       "      <td>May 16th, 2019</td>\n",
       "      <td>-0.003670</td>\n",
       "      <td>0.088889</td>\n",
       "    </tr>\n",
       "    <tr>\n",
       "      <th>3</th>\n",
       "      <td>July 16th, 2019</td>\n",
       "      <td>-0.003100</td>\n",
       "      <td>0.258333</td>\n",
       "    </tr>\n",
       "    <tr>\n",
       "      <th>4</th>\n",
       "      <td>October 16th, 2019</td>\n",
       "      <td>-0.002320</td>\n",
       "      <td>0.513889</td>\n",
       "    </tr>\n",
       "    <tr>\n",
       "      <th>5</th>\n",
       "      <td>April 16th, 2020</td>\n",
       "      <td>-0.002270</td>\n",
       "      <td>1.022222</td>\n",
       "    </tr>\n",
       "    <tr>\n",
       "      <th>6</th>\n",
       "      <td>October 16th, 2020</td>\n",
       "      <td>-0.001910</td>\n",
       "      <td>1.530556</td>\n",
       "    </tr>\n",
       "    <tr>\n",
       "      <th>7</th>\n",
       "      <td>April 16th, 2021</td>\n",
       "      <td>-0.001992</td>\n",
       "      <td>2.036111</td>\n",
       "    </tr>\n",
       "    <tr>\n",
       "      <th>8</th>\n",
       "      <td>April 19th, 2022</td>\n",
       "      <td>-0.001305</td>\n",
       "      <td>3.058333</td>\n",
       "    </tr>\n",
       "    <tr>\n",
       "      <th>9</th>\n",
       "      <td>April 17th, 2023</td>\n",
       "      <td>-0.000398</td>\n",
       "      <td>4.066667</td>\n",
       "    </tr>\n",
       "    <tr>\n",
       "      <th>10</th>\n",
       "      <td>April 16th, 2024</td>\n",
       "      <td>0.000553</td>\n",
       "      <td>5.080556</td>\n",
       "    </tr>\n",
       "    <tr>\n",
       "      <th>11</th>\n",
       "      <td>April 16th, 2025</td>\n",
       "      <td>0.001543</td>\n",
       "      <td>6.094444</td>\n",
       "    </tr>\n",
       "    <tr>\n",
       "      <th>12</th>\n",
       "      <td>April 16th, 2026</td>\n",
       "      <td>0.002565</td>\n",
       "      <td>7.108333</td>\n",
       "    </tr>\n",
       "    <tr>\n",
       "      <th>13</th>\n",
       "      <td>April 16th, 2027</td>\n",
       "      <td>0.003573</td>\n",
       "      <td>8.122222</td>\n",
       "    </tr>\n",
       "    <tr>\n",
       "      <th>14</th>\n",
       "      <td>April 18th, 2028</td>\n",
       "      <td>0.004582</td>\n",
       "      <td>9.144444</td>\n",
       "    </tr>\n",
       "    <tr>\n",
       "      <th>15</th>\n",
       "      <td>April 16th, 2029</td>\n",
       "      <td>0.005524</td>\n",
       "      <td>10.152778</td>\n",
       "    </tr>\n",
       "    <tr>\n",
       "      <th>16</th>\n",
       "      <td>April 16th, 2030</td>\n",
       "      <td>0.006385</td>\n",
       "      <td>11.166667</td>\n",
       "    </tr>\n",
       "    <tr>\n",
       "      <th>17</th>\n",
       "      <td>April 16th, 2031</td>\n",
       "      <td>0.007165</td>\n",
       "      <td>12.180556</td>\n",
       "    </tr>\n",
       "    <tr>\n",
       "      <th>18</th>\n",
       "      <td>April 17th, 2034</td>\n",
       "      <td>0.009010</td>\n",
       "      <td>15.227778</td>\n",
       "    </tr>\n",
       "    <tr>\n",
       "      <th>19</th>\n",
       "      <td>April 18th, 2039</td>\n",
       "      <td>0.010710</td>\n",
       "      <td>20.302778</td>\n",
       "    </tr>\n",
       "    <tr>\n",
       "      <th>20</th>\n",
       "      <td>April 19th, 2044</td>\n",
       "      <td>0.011340</td>\n",
       "      <td>25.380556</td>\n",
       "    </tr>\n",
       "    <tr>\n",
       "      <th>21</th>\n",
       "      <td>April 20th, 2049</td>\n",
       "      <td>0.011520</td>\n",
       "      <td>30.455556</td>\n",
       "    </tr>\n",
       "    <tr>\n",
       "      <th>22</th>\n",
       "      <td>April 16th, 2054</td>\n",
       "      <td>0.011500</td>\n",
       "      <td>35.516667</td>\n",
       "    </tr>\n",
       "    <tr>\n",
       "      <th>23</th>\n",
       "      <td>April 16th, 2059</td>\n",
       "      <td>0.011402</td>\n",
       "      <td>40.588889</td>\n",
       "    </tr>\n",
       "    <tr>\n",
       "      <th>24</th>\n",
       "      <td>April 16th, 2064</td>\n",
       "      <td>0.011310</td>\n",
       "      <td>45.663889</td>\n",
       "    </tr>\n",
       "    <tr>\n",
       "      <th>25</th>\n",
       "      <td>April 16th, 2069</td>\n",
       "      <td>0.011210</td>\n",
       "      <td>50.736111</td>\n",
       "    </tr>\n",
       "  </tbody>\n",
       "</table>\n",
       "</div>"
      ],
      "text/plain": [
       "              maturity      rate      theta\n",
       "0     April 15th, 2019 -0.003640   0.002778\n",
       "1     April 23rd, 2019 -0.003780   0.025000\n",
       "2       May 16th, 2019 -0.003670   0.088889\n",
       "3      July 16th, 2019 -0.003100   0.258333\n",
       "4   October 16th, 2019 -0.002320   0.513889\n",
       "5     April 16th, 2020 -0.002270   1.022222\n",
       "6   October 16th, 2020 -0.001910   1.530556\n",
       "7     April 16th, 2021 -0.001992   2.036111\n",
       "8     April 19th, 2022 -0.001305   3.058333\n",
       "9     April 17th, 2023 -0.000398   4.066667\n",
       "10    April 16th, 2024  0.000553   5.080556\n",
       "11    April 16th, 2025  0.001543   6.094444\n",
       "12    April 16th, 2026  0.002565   7.108333\n",
       "13    April 16th, 2027  0.003573   8.122222\n",
       "14    April 18th, 2028  0.004582   9.144444\n",
       "15    April 16th, 2029  0.005524  10.152778\n",
       "16    April 16th, 2030  0.006385  11.166667\n",
       "17    April 16th, 2031  0.007165  12.180556\n",
       "18    April 17th, 2034  0.009010  15.227778\n",
       "19    April 18th, 2039  0.010710  20.302778\n",
       "20    April 19th, 2044  0.011340  25.380556\n",
       "21    April 20th, 2049  0.011520  30.455556\n",
       "22    April 16th, 2054  0.011500  35.516667\n",
       "23    April 16th, 2059  0.011402  40.588889\n",
       "24    April 16th, 2064  0.011310  45.663889\n",
       "25    April 16th, 2069  0.011210  50.736111"
      ]
     },
     "execution_count": 12,
     "metadata": {},
     "output_type": "execute_result"
    }
   ],
   "source": [
    "yield_curve_df"
   ]
  },
  {
   "cell_type": "markdown",
   "id": "13d33b0f",
   "metadata": {},
   "source": [
    "After pre-processing this dataset is ready to implement methods like Linear and Cubic Spline to interpolate the yield curve, where the rate is y and theta (maturity versus observation date) is x"
   ]
  },
  {
   "cell_type": "markdown",
   "id": "2b0b82fa",
   "metadata": {},
   "source": [
    "### a) Build the complete yield curve using interpolation techniques."
   ]
  },
  {
   "cell_type": "markdown",
   "id": "c6919fd1",
   "metadata": {},
   "source": [
    "#### Cubic Spline interpolation"
   ]
  },
  {
   "cell_type": "code",
   "execution_count": 13,
   "id": "97be38a9",
   "metadata": {},
   "outputs": [],
   "source": [
    "from scipy.interpolate import CubicSpline\n",
    "import matplotlib.pyplot as plt\n",
    "\n",
    "#cubic spline the yield curve\n",
    "yield_curve = CubicSpline(yield_curve_df.theta, yield_curve_df.rate, bc_type='not-a-knot')"
   ]
  },
  {
   "cell_type": "code",
   "execution_count": 14,
   "id": "a9736480",
   "metadata": {},
   "outputs": [
    {
     "data": {
      "image/png": "[encoded data removed]",
      "text/plain": [
       "<Figure size 432x288 with 1 Axes>"
      ]
     },
     "metadata": {
      "needs_background": "light"
     },
     "output_type": "display_data"
    }
   ],
   "source": [
    "time_axis = np.arange(0, max(yield_curve_df.theta)+1)\n",
    "rate_axis = yield_curve(time_axis)\n",
    "\n",
    "plt.scatter(yield_curve_df.theta, yield_curve_df.rate * 100, label='Bloomberg Data', color='red');\n",
    "plt.plot(time_axis, rate_axis * 100, label='Interpolation line', color='blue');\n",
    "plt.xlabel(f'Maturity (Years from valuation {valuation_date})')\n",
    "plt.ylabel('Yield rate (%)')\n",
    "plt.title('Yield Curve Cubic Spline Interpolation')\n",
    "plt.legend()\n",
    "plt.show()"
   ]
  },
  {
   "cell_type": "code",
   "execution_count": 17,
   "id": "367d8df3",
   "metadata": {},
   "outputs": [
    {
     "data": {
      "text/plain": [
       "array([-0.00361191, -0.0022682 , -0.00198577, -0.00136338, -0.00045646,\n",
       "        0.00047491,  0.00144861,  0.00245599,  0.00345127,  0.0044418 ,\n",
       "        0.00538658,  0.00624917,  0.00703217,  0.00773343,  0.00835336,\n",
       "        0.00889653,  0.00936764,  0.00977219,  0.01011613,  0.01040539,\n",
       "        0.0106459 ,  0.01084355,  0.01100387,  0.01113218,  0.01123379,\n",
       "        0.01131399,  0.01137795,  0.01142861,  0.01146733,  0.01149542,\n",
       "        0.01151418,  0.01152493,  0.01152875,  0.01152651,  0.01151911,\n",
       "        0.01150743,  0.01149234,  0.01147468,  0.01145527,  0.01143489,\n",
       "        0.01141434,  0.01139442,  0.01137546,  0.01135721,  0.0113394 ,\n",
       "        0.01132176,  0.011304  ,  0.01128586,  0.01126706,  0.01124731,\n",
       "        0.01122636,  0.01120391])"
      ]
     },
     "execution_count": 17,
     "metadata": {},
     "output_type": "execute_result"
    }
   ],
   "source": [
    "rate_axis"
   ]
  },
  {
   "cell_type": "markdown",
   "id": "7c9c758d",
   "metadata": {},
   "source": [
    "### b) Compute the accrued interest in the fixed and floating legs of the contract.\n",
    "\n",
    "We assume T+0 lag on settlement date (settlement date = trade date) and notional value of 10 million euros. We can start by defining common vars:"
   ]
  },
  {
   "cell_type": "markdown",
   "id": "a27a4184",
   "metadata": {},
   "source": [
    "#### Set the assumptions"
   ]
  },
  {
   "cell_type": "code",
   "execution_count": 23,
   "id": "bbbf3f01",
   "metadata": {},
   "outputs": [],
   "source": [
    "settlement_date = ql.Date(15, 4, 2019)\n",
    "issue_date = ql.Date(19,1, 2007)\n",
    "maturity_date = ql.Date(19, 1, 2032)\n",
    "notional_value = 10e6\n",
    "swap_rate = fixed_rate = 0.05982 / 100"
   ]
  },
  {
   "cell_type": "markdown",
   "id": "49613a0c",
   "metadata": {},
   "source": [
    "#### Fixed the leg"
   ]
  },
  {
   "cell_type": "code",
   "execution_count": 24,
   "id": "69353640",
   "metadata": {},
   "outputs": [
    {
     "name": "stdout",
     "output_type": "stream",
     "text": [
      "Fixed Leg AI: 1395.8000000000002€\n",
      "Fixed Leg AI: 0.013958000000000002%\n"
     ]
    }
   ],
   "source": [
    "#we actually exclude the first coupon, because it's a short first coupon since we settled at 15/4/2019\n",
    "#and first coupon after settlement is at 20/1/2019\n",
    "fixed_leg_coupon_dates = [\n",
    "    date for date in get_coupon_dates(issue_date, maturity_date, 1) \n",
    "    if date.year() >= settlement_date.year()\n",
    "]\n",
    "\n",
    "#Fixed leg is set at 30U/360\n",
    "fixed_leg_basis = ql.Thirty360(ql.Thirty360.BondBasis)\n",
    "fixed_leg_ai_u = count_days(fixed_leg_coupon_dates[0], settlement_date, fixed_leg_basis)\n",
    "fixed_leg_ai_w = 360\n",
    "\n",
    "fixed_leg_ai = notional_value * fixed_leg_ai_u/fixed_leg_ai_w * fixed_rate\n",
    "\n",
    "#discard first coupon for later\n",
    "fixed_leg_coupon_dates = fixed_leg_coupon_dates[1:]\n",
    "\n",
    "print(f\"Fixed Leg AI: {fixed_leg_ai}€\")\n",
    "print(f\"Fixed Leg AI: {fixed_leg_ai/notional_value * 100}%\")"
   ]
  },
  {
   "cell_type": "markdown",
   "id": "a2b036ea",
   "metadata": {},
   "source": [
    "#### Floating leg"
   ]
  },
  {
   "cell_type": "code",
   "execution_count": 25,
   "id": "efd8da38",
   "metadata": {},
   "outputs": [
    {
     "name": "stdout",
     "output_type": "stream",
     "text": [
      "Floating Leg AI: -5506.666666666666€\n",
      "Floating Leg AI: -0.05506666666666667%\n"
     ]
    }
   ],
   "source": [
    "#we actually exclude the first coupon, because it's a short first coupon since we settled at 15/4/2019\n",
    "#and first coupon after settlement is at 20/1/2019\n",
    "floating_leg_coupon_dates = [\n",
    "    date for date in get_coupon_dates(issue_date, maturity_date, 2)\n",
    "    if date.year() >= settlement_date.year()\n",
    "]\n",
    "\n",
    "#Floating leg is set at ACT/360\n",
    "floating_leg_basis = ql.Actual360()\n",
    "floating_leg_ai_u = count_days(floating_leg_coupon_dates[0], settlement_date, floating_leg_basis)\n",
    "floating_leg_ai_w = 360/2 #semi annual 360-day year\n",
    "\n",
    "floating_rate = -0.236 / 100\n",
    "floating_leg_ai = notional_value * floating_leg_ai_u/floating_leg_ai_w * floating_rate/2\n",
    "\n",
    "#discard first coupon for later\n",
    "floating_leg_coupon_dates = floating_leg_coupon_dates[1:]\n",
    "\n",
    "print(f\"Floating Leg AI: {floating_leg_ai}€\")\n",
    "print(f\"Floating Leg AI: {floating_leg_ai/notional_value * 100}%\")"
   ]
  },
  {
   "cell_type": "markdown",
   "id": "33b9a6d6",
   "metadata": {},
   "source": [
    "### c) Calculate the clean (principal) and dirty market value of the swap contract."
   ]
  },
  {
   "cell_type": "markdown",
   "id": "5648e637",
   "metadata": {},
   "source": [
    "#### Function to calculate the cashflows for the fixed leg, where the first coupon will be short"
   ]
  },
  {
   "cell_type": "code",
   "execution_count": 32,
   "id": "6faaf407",
   "metadata": {},
   "outputs": [
    {
     "name": "stdout",
     "output_type": "stream",
     "text": [
      "We will received 76.39% of the first fixed leg coupon\n"
     ]
    }
   ],
   "source": [
    "short_discount = count_days(settlement_date, fixed_leg_coupon_dates[0], fixed_leg_basis)/360\n",
    "print(f\"We will received {round(short_discount * 100, 2)}% of the first fixed leg coupon\")"
   ]
  },
  {
   "cell_type": "code",
   "execution_count": 34,
   "id": "f468c46b",
   "metadata": {},
   "outputs": [
    {
     "name": "stdout",
     "output_type": "stream",
     "text": [
      "Fixed leg payments: [4586.148102557556, 6009.224118407974, 6017.75539513584, 6014.7345714189005, 5995.671317481784, 5964.982877940192, 5921.691008959212, 5865.88572311122, 5799.356504920386, 5722.669065726947, 5638.745354358597, 5551.111982682253, 9134984.223066304]\n",
      "Fixed leg PV: €9204072.199089006\n"
     ]
    }
   ],
   "source": [
    "def get_fixed_leg_payments(rate):\n",
    "    fixed_leg_cashflows = []\n",
    "    for i, coupon_date in enumerate(fixed_leg_coupon_dates[::-1]):\n",
    "        #calculate df\n",
    "        spot_t = count_years(coupon_date, maturity_date, fixed_leg_basis)\n",
    "        spot_rate = yield_curve(spot_t)\n",
    "        df = 1/( (1+spot_rate)**(i+1) )\n",
    "\n",
    "        coupon = rate * notional_value\n",
    "        if i == 0: #if first coupon, short discount it\n",
    "            coupon *= short_discount\n",
    "        elif i == len(fixed_leg_coupon_dates) - 1:\n",
    "            coupon += notional_value\n",
    "\n",
    "        fixed_leg_cashflows.append( coupon * df )\n",
    "    return fixed_leg_cashflows\n",
    "\n",
    "fixed_leg_cashflows = get_fixed_leg_payments(fixed_rate)\n",
    "print(f\"Fixed leg payments: {fixed_leg_cashflows}\")\n",
    "fixed_leg_cashflows = np.array(fixed_leg_cashflows)\n",
    "fixed_leg_pv = fixed_leg_cashflows.sum()\n",
    "print(f\"Fixed leg PV: €{fixed_leg_pv}\")"
   ]
  },
  {
   "cell_type": "code",
   "execution_count": 36,
   "id": "2be5adff",
   "metadata": {},
   "outputs": [
    {
     "name": "stdout",
     "output_type": "stream",
     "text": [
      "Clean price: 92.0407\n",
      "Dirty price: 92.0547\n"
     ]
    }
   ],
   "source": [
    "print(f\"Clean price: {round(fixed_leg_pv/notional_value * 100, 4)}\")\n",
    "print(f\"Dirty price: {round((fixed_leg_pv+fixed_leg_ai)/notional_value * 100, 4)}\")"
   ]
  },
  {
   "cell_type": "code",
   "execution_count": 37,
   "id": "1fb36014",
   "metadata": {},
   "outputs": [],
   "source": [
    "floating_cf_years = [\n",
    "    count_years(date, maturity_date, floating_leg_basis) \n",
    "    for date in floating_leg_coupon_dates[::-1]\n",
    "]\n",
    "\n",
    "floating_cf_rates = yield_curve(floating_cf_years)\n",
    "\n",
    "euribor_forward_rates = []\n",
    "\n",
    "for i in range(len(floating_cf_years)-1):\n",
    "    t_0 = floating_cf_years[i]\n",
    "    t_1 = floating_cf_years[i+1]\n",
    "    spot_t0 = floating_cf_rates[i]\n",
    "    spot_t1 = floating_cf_rates[i+1]\n",
    "\n",
    "    forward_rate = ( (1+spot_t1)**t_1 )/( (1+spot_t0)**t_0 )\n",
    "    forward_rate = forward_rate**(1/(t_1-t_0))\n",
    "    forward_rate = forward_rate - 1\n",
    "\n",
    "    euribor_forward_rates.append(forward_rate)\n",
    "\n",
    "euribor_forward_rates = [floating_rate] + euribor_forward_rates"
   ]
  },
  {
   "cell_type": "code",
   "execution_count": 38,
   "id": "3036112c",
   "metadata": {},
   "outputs": [
    {
     "data": {
      "text/plain": [
       "Text(0.5, 0, 'Time (years)')"
      ]
     },
     "execution_count": 38,
     "metadata": {},
     "output_type": "execute_result"
    },
    {
     "data": {
      "image/png": "[encoded data removed]",
      "text/plain": [
       "<Figure size 432x288 with 1 Axes>"
      ]
     },
     "metadata": {
      "needs_background": "light"
     },
     "output_type": "display_data"
    }
   ],
   "source": [
    "plt.figure();\n",
    "plt.plot(floating_cf_years, np.array(euribor_forward_rates)*100);\n",
    "plt.title(\"Euribor 6M Forward Rates\");\n",
    "plt.ylabel(\"Forward rate (%)\")\n",
    "plt.xlabel(\"Time (years)\")"
   ]
  },
  {
   "cell_type": "code",
   "execution_count": 39,
   "id": "e648191c",
   "metadata": {},
   "outputs": [
    {
     "name": "stdout",
     "output_type": "stream",
     "text": [
      "Float leg payments: [-9030.197033170174, -11713.82637970997, -11045.911851302157, -6072.612669374967, -11198.64977943414, -5314.519582586747, 5525.913339528667, 9953.424490584383, 13551.99927948458, 18971.047501456742, 24532.994742802424, 29615.118680293475, 9935680.445623657, 40358.05409402312, 45319.192176604374, 49606.10538156119, 54030.06429402184, 58687.97576320027, 62653.97652290914, 65624.33060114959, 67858.83040088939, 69475.71946704706, 70863.08064074456, 72082.45993336174, 72916.87072127398, 73319.37002480196]\n",
      "Float leg PV: €10786251.256383818\n"
     ]
    }
   ],
   "source": [
    "float_leg_cashflows = []\n",
    "for i, coupon_date in enumerate(floating_leg_coupon_dates[::-1]):\n",
    "    #calculate df\n",
    "    spot_t = count_years(coupon_date, maturity_date, floating_leg_basis)\n",
    "    spot_rate = yield_curve(spot_t)\n",
    "    df = 1/( (1+spot_rate/2)**(i+1) )\n",
    "\n",
    "    coupon = euribor_forward_rates[i]/2 * notional_value\n",
    "    if i == 0: #if first coupon, short discount it\n",
    "        coupon *= short_discount\n",
    "    elif i == len(fixed_leg_coupon_dates) - 1:\n",
    "        coupon += notional_value\n",
    "\n",
    "    float_leg_cashflows.append( coupon * df )\n",
    "\n",
    "print(f\"Float leg payments: {float_leg_cashflows}\")\n",
    "float_leg_cashflows = np.array(float_leg_cashflows)\n",
    "floating_leg_pv = float_leg_cashflows.sum()\n",
    "print(f\"Float leg PV: €{floating_leg_pv}\")"
   ]
  },
  {
   "cell_type": "code",
   "execution_count": 40,
   "id": "0d97addb",
   "metadata": {},
   "outputs": [
    {
     "name": "stdout",
     "output_type": "stream",
     "text": [
      "Clean price: 107.8625\n",
      "Dirty price: 107.8074\n"
     ]
    }
   ],
   "source": [
    "print(f\"Clean price: {round(floating_leg_pv/notional_value * 100, 4)}\")\n",
    "print(f\"Dirty price: {round((floating_leg_pv+floating_leg_ai)/notional_value * 100, 4)}\")"
   ]
  },
  {
   "cell_type": "code",
   "execution_count": 41,
   "id": "f878f0df",
   "metadata": {},
   "outputs": [
    {
     "name": "stdout",
     "output_type": "stream",
     "text": [
      "Swap contract value: €(-1582179.057294812)\n"
     ]
    }
   ],
   "source": [
    "swap_value = fixed_leg_pv-floating_leg_pv\n",
    "print(f\"Swap contract value: €({swap_value})\")"
   ]
  },
  {
   "cell_type": "markdown",
   "id": "88f0bb75",
   "metadata": {},
   "source": [
    "### d) Estimate the net present value of the contract."
   ]
  },
  {
   "cell_type": "code",
   "execution_count": 44,
   "id": "98acdf5b",
   "metadata": {},
   "outputs": [
    {
     "name": "stdout",
     "output_type": "stream",
     "text": [
      "Fixed Leg NPV: €9202676.399089005\n",
      "Floating Leg NPV: €10791757.923050484\n",
      "Net Present Value (NPV) of the Contract: €-1589081.5239614788\n"
     ]
    }
   ],
   "source": [
    "# Calculate the present value of future cash flows for both fixed and floating legs\n",
    "fixed_leg_npv = fixed_leg_pv - fixed_leg_ai\n",
    "floating_leg_npv = floating_leg_pv - floating_leg_ai\n",
    "\n",
    "# Net Present Value (NPV) of the contract\n",
    "net_present_value = fixed_leg_npv - floating_leg_npv\n",
    "\n",
    "print(f\"Fixed Leg NPV: €{fixed_leg_npv}\")\n",
    "print(f\"Floating Leg NPV: €{floating_leg_npv}\")\n",
    "print(f\"Net Present Value (NPV) of the Contract: €{net_present_value}\")\n"
   ]
  },
  {
   "cell_type": "markdown",
   "id": "a3ee5afb",
   "metadata": {},
   "source": [
    "### e) Estimate the swap par rate."
   ]
  },
  {
   "cell_type": "code",
   "execution_count": 50,
   "id": "ba2c8d22",
   "metadata": {},
   "outputs": [
    {
     "name": "stdout",
     "output_type": "stream",
     "text": [
      "The swap par rate is 1.3294%\n"
     ]
    }
   ],
   "source": [
    "from scipy.optimize import fsolve\n",
    "\n",
    "def find_swap_par_rate(fixed_rate):\n",
    "    return sum(get_fixed_leg_payments(fixed_rate)) - floating_leg_pv\n",
    "\n",
    "#I'll guess that the swap par rate is around 6% because\n",
    "#it has to be high enough to compensate for the increasing\n",
    "#interest rate hikes\n",
    "swap_par_rate = fsolve(find_swap_par_rate, 6/100)[0]\n",
    "\n",
    "print(f\"The swap par rate is {round(swap_par_rate*100, 4)}%\")"
   ]
  },
  {
   "cell_type": "code",
   "execution_count": 51,
   "id": "fe068909",
   "metadata": {},
   "outputs": [
    {
     "data": {
      "text/plain": [
       "0.0"
      ]
     },
     "execution_count": 51,
     "metadata": {},
     "output_type": "execute_result"
    }
   ],
   "source": [
    "sum(get_fixed_leg_payments(swap_par_rate)) - floating_leg_pv"
   ]
  },
  {
   "cell_type": "markdown",
   "id": "4cad3594",
   "metadata": {},
   "source": [
    "### f) Estimate the following IRS Greeks: present value of a one basis point shift (PV01), DV01, Gamma and discuss the interest rate risk of the contract. "
   ]
  },
  {
   "cell_type": "code",
   "execution_count": 46,
   "id": "7dfe3112",
   "metadata": {},
   "outputs": [],
   "source": [
    "# Function to calculate the present value for a given yield curve shift\n",
    "def calculate_present_value(yield_curve_shift):\n",
    "    # Create a new yield curve with a one basis point shift\n",
    "    shifted_yield_curve = CubicSpline(yield_curve_df.theta, yield_curve_df.rate + yield_curve_shift, bc_type='not-a-knot')\n",
    "\n",
    "    # Recalculate fixed and floating leg present values with the shifted yield curve\n",
    "    fixed_leg_cashflows_shifted = get_fixed_leg_payments(fixed_rate)\n",
    "    fixed_leg_cashflows_shifted = np.array(fixed_leg_cashflows_shifted)\n",
    "    fixed_leg_pv_shifted = fixed_leg_cashflows_shifted.sum()\n",
    "\n",
    "    floating_leg_cashflows_shifted = []\n",
    "    for i, coupon_date in enumerate(floating_leg_coupon_dates[::-1]):\n",
    "        spot_t = count_years(coupon_date, maturity_date, floating_leg_basis)\n",
    "        spot_rate = shifted_yield_curve(spot_t)\n",
    "        df = 1 / ((1 + spot_rate / 2)**(i + 1))\n",
    "\n",
    "        coupon = euribor_forward_rates[i] / 2 * notional_value\n",
    "        if i == 0:\n",
    "            coupon *= short_discount\n",
    "        elif i == len(fixed_leg_coupon_dates) - 1:\n",
    "            coupon += notional_value\n",
    "\n",
    "        floating_leg_cashflows_shifted.append(coupon * df)\n",
    "\n",
    "    floating_leg_cashflows_shifted = np.array(floating_leg_cashflows_shifted)\n",
    "    floating_leg_pv_shifted = floating_leg_cashflows_shifted.sum()\n",
    "\n",
    "    # Recalculate NPV with the shifted yield curve\n",
    "    net_present_value_shifted = fixed_leg_pv_shifted - floating_leg_pv_shifted\n",
    "\n",
    "    return net_present_value_shifted\n"
   ]
  },
  {
   "cell_type": "code",
   "execution_count": 47,
   "id": "4f07e82c",
   "metadata": {},
   "outputs": [],
   "source": [
    "# Calculate the PV01 (present value of a one basis point shift)\n",
    "yield_curve_shift = 0.0001  # 1 basis point shift\n",
    "pv01 = calculate_present_value(yield_curve_shift) - net_present_value\n",
    "\n",
    "# Calculate the DV01 (dollar value of 1 basis point shift)\n",
    "dv01 = pv01 * notional_value\n",
    "\n",
    "# Calculate the Gamma\n",
    "yield_curve_shift_pos = 0.0001\n",
    "yield_curve_shift_neg = -0.0001\n",
    "\n",
    "npv_pos = calculate_present_value(yield_curve_shift_pos)\n",
    "npv_neg = calculate_present_value(yield_curve_shift_neg)\n",
    "\n",
    "gamma = (npv_pos - 2 * net_present_value + npv_neg) / (yield_curve_shift**2 * notional_value)"
   ]
  },
  {
   "cell_type": "code",
   "execution_count": 48,
   "id": "f0d48353",
   "metadata": {},
   "outputs": [
    {
     "name": "stdout",
     "output_type": "stream",
     "text": [
      "PV01 (Present Value of a One Basis Point Shift): €14222.49838504754\n",
      "DV01 (Dollar Value of 1 Basis Point Shift): €142224983850.4754\n",
      "Gamma: €137994.75219897926\n"
     ]
    }
   ],
   "source": [
    "# Display results\n",
    "print(f\"PV01 (Present Value of a One Basis Point Shift): €{pv01}\")\n",
    "print(f\"DV01 (Dollar Value of 1 Basis Point Shift): €{dv01}\")\n",
    "print(f\"Gamma: €{gamma}\")"
   ]
  },
  {
   "cell_type": "code",
   "execution_count": null,
   "id": "32e6b243",
   "metadata": {},
   "outputs": [],
   "source": []
  }
 ],
 "metadata": {
  "kernelspec": {
   "display_name": "Python 3",
   "language": "python",
   "name": "python3"
  },
  "language_info": {
   "codemirror_mode": {
    "name": "ipython",
    "version": 3
   },
   "file_extension": ".py",
   "mimetype": "text/x-python",
   "name": "python",
   "nbconvert_exporter": "python",
   "pygments_lexer": "ipython3",
   "version": "3.9.7"
  }
 },
 "nbformat": 4,
 "nbformat_minor": 5
}
